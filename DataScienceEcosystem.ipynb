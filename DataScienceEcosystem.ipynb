{
 "cells": [
  {
   "cell_type": "markdown",
   "id": "98eb4ce5-af03-4e4e-adc5-832d68109ec2",
   "metadata": {},
   "source": [
    "# Data Science Tools and Ecosystem"
   ]
  },
  {
   "cell_type": "markdown",
   "id": "85ea6d8c-d46b-41e3-80e5-953ce4fa0ac4",
   "metadata": {},
   "source": [
    "## In this notebook, Data Science Tools and Ecosystem are summarized."
   ]
  },
  {
   "cell_type": "markdown",
   "id": "da267ebc-ce54-4a19-ad0f-804e6f742af1",
   "metadata": {},
   "source": [
    "### Some of the popular languages that Data Scientists use are:\n",
    "1. python\n",
    "2. R\n",
    "3. SQL"
   ]
  },
  {
   "cell_type": "markdown",
   "id": "156f00f9-f1b7-4c90-88f4-e12f51dc4ecd",
   "metadata": {},
   "source": [
    "### Some of the commonly used libraries used by Data Scientists include:\n",
    "1. NumPy\n",
    "2. Pandas\n",
    "3. Matplotlib\n",
    "4. scikit-learn\n",
    "5. MySQL\n",
    "6. ggplot2"
   ]
  },
  {
   "cell_type": "markdown",
   "id": "43394a71-e525-4858-b507-388baab2cdb1",
   "metadata": {},
   "source": [
    "| Data Science Tool |\n",
    "| ----------------- |\n",
    "| Jupyter Notebook  |\n",
    "| R Studio          |\n",
    "| Apache Zeppelin   |"
   ]
  },
  {
   "cell_type": "markdown",
   "id": "ac54807d-ce58-4adc-8803-61ffac73ac15",
   "metadata": {},
   "source": [
    "### Below are a few examples of evaluating arithmetic expressions in Python"
   ]
  },
  {
   "cell_type": "code",
   "execution_count": 2,
   "id": "c492a4fc-be11-4f8d-ade8-dc06c9cbfa5d",
   "metadata": {},
   "outputs": [
    {
     "name": "stdout",
     "output_type": "stream",
     "text": [
      "Addition 15\n",
      "multiplication 50\n",
      "division 2.0\n",
      "subtraction 5\n"
     ]
    }
   ],
   "source": [
    "a=10\n",
    "b=5\n",
    "print(\"Addition\", a+b)\n",
    "print(\"multiplication\", a*b)\n",
    "print(\"division\", a/b)\n",
    "print(\"subtraction\", a-b)"
   ]
  },
  {
   "cell_type": "markdown",
   "id": "fc81a791-1cc4-43fe-a1dd-5b6c000070a6",
   "metadata": {},
   "source": [
    "#### For the following expression, the priority of order for arithmetic operations would be starting with parenthesis() next multiplication and division then addition and subtraction. so first we will do multiplication of 3 and 4 which is inside of parenthesis and then we will do addition"
   ]
  },
  {
   "cell_type": "code",
   "execution_count": 3,
   "id": "8c9ad182-1c1d-4a11-9290-95057ff92761",
   "metadata": {},
   "outputs": [
    {
     "data": {
      "text/plain": [
       "17"
      ]
     },
     "execution_count": 3,
     "metadata": {},
     "output_type": "execute_result"
    }
   ],
   "source": [
    "(3*4)+5"
   ]
  },
  {
   "cell_type": "markdown",
   "id": "f3b4b116-686f-41da-a769-d33f15d6c159",
   "metadata": {},
   "source": [
    "#### converting 200 mintues to hours by didving it with 60"
   ]
  },
  {
   "cell_type": "code",
   "execution_count": 5,
   "id": "71f89a71-59ab-489b-aec9-5e0b4ca56ff1",
   "metadata": {},
   "outputs": [
    {
     "data": {
      "text/plain": [
       "3.3333333333333335"
      ]
     },
     "execution_count": 5,
     "metadata": {},
     "output_type": "execute_result"
    }
   ],
   "source": [
    "200/60"
   ]
  },
  {
   "cell_type": "markdown",
   "id": "e333a332-f728-4501-98e5-e444dcec9a7e",
   "metadata": {},
   "source": [
    "**Objectives:**\n",
    "* Python\n",
    "* R\n",
    "* SQL\n",
    "* Julia\n",
    "* Scala\n",
    "* Java\n",
    "* JavaScript"
   ]
  },
  {
   "cell_type": "markdown",
   "id": "3c93323a-736a-4c6f-ab4a-cc745e31aa46",
   "metadata": {},
   "source": [
    "## Author\n",
    "Sharath"
   ]
  }
 ],
 "metadata": {
  "kernelspec": {
   "display_name": "Python 3 (ipykernel)",
   "language": "python",
   "name": "python3"
  },
  "language_info": {
   "codemirror_mode": {
    "name": "ipython",
    "version": 3
   },
   "file_extension": ".py",
   "mimetype": "text/x-python",
   "name": "python",
   "nbconvert_exporter": "python",
   "pygments_lexer": "ipython3",
   "version": "3.12.4"
  }
 },
 "nbformat": 4,
 "nbformat_minor": 5
}
